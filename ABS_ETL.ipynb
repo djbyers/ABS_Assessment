{
 "cells": [
  {
   "cell_type": "markdown",
   "id": "34c9579a-7d7e-473c-8184-8750275ba9d0",
   "metadata": {},
   "source": [
    "We begin our ETL process by loading in any packages or libraries we might need throughout the process of importing, cleaning, and manipulating the data, as well as libraries and packages needed to build our visualizations."
   ]
  },
  {
   "cell_type": "code",
   "execution_count": 1,
   "id": "d77b0ac3-ff0f-4f98-a1e5-0640722fb0eb",
   "metadata": {},
   "outputs": [],
   "source": [
    "import pandas as pd\n",
    "import requests\n",
    "import json\n",
    "import matplotlib.pyplot as plt\n",
    "import plotly\n",
    "import plotly.graph_objects as go"
   ]
  },
  {
   "cell_type": "markdown",
   "id": "46419b19-1b6b-4988-bc2c-42a93e063f5f",
   "metadata": {},
   "source": [
    "Once we have our libraries, we can get the ETL started. First, we need to call our API to get our data from the Census website. Since everyone gets their own unique key, we will save our key as a variable that is inserted into the API url once the url is called.\n",
    "\n",
    "Since some of our visualizations will use data from individual states, while other visualizations use the country as a whole, we need to make sure we can call the API for both datasets, so we need to make sure we have the proper url for each one. The 'get' keyword followed by an equals sign will tell the API which columns of the dataset we want to call."
   ]
  },
  {
   "cell_type": "code",
   "execution_count": 8,
   "id": "60b39c12-321c-4432-9694-6b648acce286",
   "metadata": {},
   "outputs": [],
   "source": [
    "key = '8a3df61e848ed09da46d7c9e86eb70fb4c3ec168'\n",
    "\n",
    "url_state = r'https://api.census.gov/data/2018/abscs?get=GEO_ID,NAME,STATE,NAICS2017,NAICS2017_LABEL,YIBSZFI,YIBSZFI_LABEL,SEX,SEX_LABEL,ETH_GROUP,ETH_GROUP_LABEL,RACE_GROUP,RACE_GROUP_LABEL,VET_GROUP,VET_GROUP_LABEL,EMPSZFI,EMPSZFI_LABEL,YEAR,EMP,EMP_F,PAYANN,PAYANN_F&for=state:*&key=%s' % (key)\n",
    "\n",
    "url_us = r'https://api.census.gov/data/2018/abscs?get=GEO_ID,NAME,STATE,NAICS2017,NAICS2017_LABEL,YIBSZFI,YIBSZFI_LABEL,SEX,SEX_LABEL,ETH_GROUP,ETH_GROUP_LABEL,RACE_GROUP,RACE_GROUP_LABEL,VET_GROUP,VET_GROUP_LABEL,EMPSZFI,EMPSZFI_LABEL,YEAR,EMP,EMP_F,PAYANN,PAYANN_F&for=us:*&key=%s' % (key)"
   ]
  },
  {
   "cell_type": "markdown",
   "id": "8d125ce7-9dec-4dd3-add6-b944962ca54a",
   "metadata": {},
   "source": [
    "Once we have our urls created, we can use the 'get' function to call our data, once for the state data and once for the national data."
   ]
  },
  {
   "cell_type": "code",
   "execution_count": 10,
   "id": "af277222-6c18-4c42-a200-392dc0d22ddc",
   "metadata": {
    "collapsed": true,
    "jupyter": {
     "outputs_hidden": true
    },
    "tags": []
   },
   "outputs": [
    {
     "data": {
      "text/html": [
       "<div>\n",
       "<style scoped>\n",
       "    .dataframe tbody tr th:only-of-type {\n",
       "        vertical-align: middle;\n",
       "    }\n",
       "\n",
       "    .dataframe tbody tr th {\n",
       "        vertical-align: top;\n",
       "    }\n",
       "\n",
       "    .dataframe thead th {\n",
       "        text-align: right;\n",
       "    }\n",
       "</style>\n",
       "<table border=\"1\" class=\"dataframe\">\n",
       "  <thead>\n",
       "    <tr style=\"text-align: right;\">\n",
       "      <th></th>\n",
       "      <th>GEO_ID</th>\n",
       "      <th>NAME</th>\n",
       "      <th>STATE</th>\n",
       "      <th>NAICS2017</th>\n",
       "      <th>NAICS2017_LABEL</th>\n",
       "      <th>YIBSZFI</th>\n",
       "      <th>YIBSZFI_LABEL</th>\n",
       "      <th>SEX</th>\n",
       "      <th>SEX_LABEL</th>\n",
       "      <th>ETH_GROUP</th>\n",
       "      <th>...</th>\n",
       "      <th>VET_GROUP</th>\n",
       "      <th>VET_GROUP_LABEL</th>\n",
       "      <th>EMPSZFI</th>\n",
       "      <th>EMPSZFI_LABEL</th>\n",
       "      <th>YEAR</th>\n",
       "      <th>EMP</th>\n",
       "      <th>EMP_F</th>\n",
       "      <th>PAYANN</th>\n",
       "      <th>PAYANN_F</th>\n",
       "      <th>state</th>\n",
       "    </tr>\n",
       "  </thead>\n",
       "  <tbody>\n",
       "    <tr>\n",
       "      <th>1</th>\n",
       "      <td>0400000US28</td>\n",
       "      <td>Mississippi</td>\n",
       "      <td>28</td>\n",
       "      <td>00</td>\n",
       "      <td>Total for all sectors</td>\n",
       "      <td>001</td>\n",
       "      <td>All firms</td>\n",
       "      <td>001</td>\n",
       "      <td>Total</td>\n",
       "      <td>029</td>\n",
       "      <td>...</td>\n",
       "      <td>003</td>\n",
       "      <td>Equally veteran/nonveteran</td>\n",
       "      <td>612</td>\n",
       "      <td>Firms with 1 to 4 employees</td>\n",
       "      <td>2018</td>\n",
       "      <td>0</td>\n",
       "      <td>g</td>\n",
       "      <td>0</td>\n",
       "      <td>S</td>\n",
       "      <td>28</td>\n",
       "    </tr>\n",
       "    <tr>\n",
       "      <th>2</th>\n",
       "      <td>0400000US28</td>\n",
       "      <td>Mississippi</td>\n",
       "      <td>28</td>\n",
       "      <td>00</td>\n",
       "      <td>Total for all sectors</td>\n",
       "      <td>001</td>\n",
       "      <td>All firms</td>\n",
       "      <td>001</td>\n",
       "      <td>Total</td>\n",
       "      <td>029</td>\n",
       "      <td>...</td>\n",
       "      <td>003</td>\n",
       "      <td>Equally veteran/nonveteran</td>\n",
       "      <td>620</td>\n",
       "      <td>Firms with 5 to 9 employees</td>\n",
       "      <td>2018</td>\n",
       "      <td>1742</td>\n",
       "      <td>None</td>\n",
       "      <td>43830</td>\n",
       "      <td>None</td>\n",
       "      <td>28</td>\n",
       "    </tr>\n",
       "    <tr>\n",
       "      <th>3</th>\n",
       "      <td>0400000US28</td>\n",
       "      <td>Mississippi</td>\n",
       "      <td>28</td>\n",
       "      <td>00</td>\n",
       "      <td>Total for all sectors</td>\n",
       "      <td>001</td>\n",
       "      <td>All firms</td>\n",
       "      <td>001</td>\n",
       "      <td>Total</td>\n",
       "      <td>029</td>\n",
       "      <td>...</td>\n",
       "      <td>003</td>\n",
       "      <td>Equally veteran/nonveteran</td>\n",
       "      <td>630</td>\n",
       "      <td>Firms with 10 to 19 employees</td>\n",
       "      <td>2018</td>\n",
       "      <td>0</td>\n",
       "      <td>g</td>\n",
       "      <td>0</td>\n",
       "      <td>D</td>\n",
       "      <td>28</td>\n",
       "    </tr>\n",
       "    <tr>\n",
       "      <th>4</th>\n",
       "      <td>0400000US28</td>\n",
       "      <td>Mississippi</td>\n",
       "      <td>28</td>\n",
       "      <td>00</td>\n",
       "      <td>Total for all sectors</td>\n",
       "      <td>001</td>\n",
       "      <td>All firms</td>\n",
       "      <td>001</td>\n",
       "      <td>Total</td>\n",
       "      <td>029</td>\n",
       "      <td>...</td>\n",
       "      <td>003</td>\n",
       "      <td>Equally veteran/nonveteran</td>\n",
       "      <td>641</td>\n",
       "      <td>Firms with 20 to 49 employees</td>\n",
       "      <td>2018</td>\n",
       "      <td>0</td>\n",
       "      <td>c</td>\n",
       "      <td>0</td>\n",
       "      <td>D</td>\n",
       "      <td>28</td>\n",
       "    </tr>\n",
       "    <tr>\n",
       "      <th>5</th>\n",
       "      <td>0400000US28</td>\n",
       "      <td>Mississippi</td>\n",
       "      <td>28</td>\n",
       "      <td>00</td>\n",
       "      <td>Total for all sectors</td>\n",
       "      <td>001</td>\n",
       "      <td>All firms</td>\n",
       "      <td>001</td>\n",
       "      <td>Total</td>\n",
       "      <td>029</td>\n",
       "      <td>...</td>\n",
       "      <td>003</td>\n",
       "      <td>Equally veteran/nonveteran</td>\n",
       "      <td>642</td>\n",
       "      <td>Firms with 50 to 99 employees</td>\n",
       "      <td>2018</td>\n",
       "      <td>0</td>\n",
       "      <td>h</td>\n",
       "      <td>0</td>\n",
       "      <td>D</td>\n",
       "      <td>28</td>\n",
       "    </tr>\n",
       "    <tr>\n",
       "      <th>...</th>\n",
       "      <td>...</td>\n",
       "      <td>...</td>\n",
       "      <td>...</td>\n",
       "      <td>...</td>\n",
       "      <td>...</td>\n",
       "      <td>...</td>\n",
       "      <td>...</td>\n",
       "      <td>...</td>\n",
       "      <td>...</td>\n",
       "      <td>...</td>\n",
       "      <td>...</td>\n",
       "      <td>...</td>\n",
       "      <td>...</td>\n",
       "      <td>...</td>\n",
       "      <td>...</td>\n",
       "      <td>...</td>\n",
       "      <td>...</td>\n",
       "      <td>...</td>\n",
       "      <td>...</td>\n",
       "      <td>...</td>\n",
       "      <td>...</td>\n",
       "    </tr>\n",
       "    <tr>\n",
       "      <th>372087</th>\n",
       "      <td>0400000US27</td>\n",
       "      <td>Minnesota</td>\n",
       "      <td>27</td>\n",
       "      <td>55</td>\n",
       "      <td>Management of companies and enterprises</td>\n",
       "      <td>001</td>\n",
       "      <td>All firms</td>\n",
       "      <td>002</td>\n",
       "      <td>Female</td>\n",
       "      <td>001</td>\n",
       "      <td>...</td>\n",
       "      <td>001</td>\n",
       "      <td>Total</td>\n",
       "      <td>001</td>\n",
       "      <td>All firms</td>\n",
       "      <td>2018</td>\n",
       "      <td>820</td>\n",
       "      <td>None</td>\n",
       "      <td>55388</td>\n",
       "      <td>None</td>\n",
       "      <td>27</td>\n",
       "    </tr>\n",
       "    <tr>\n",
       "      <th>372088</th>\n",
       "      <td>0400000US27</td>\n",
       "      <td>Minnesota</td>\n",
       "      <td>27</td>\n",
       "      <td>55</td>\n",
       "      <td>Management of companies and enterprises</td>\n",
       "      <td>001</td>\n",
       "      <td>All firms</td>\n",
       "      <td>002</td>\n",
       "      <td>Female</td>\n",
       "      <td>001</td>\n",
       "      <td>...</td>\n",
       "      <td>001</td>\n",
       "      <td>Total</td>\n",
       "      <td>611</td>\n",
       "      <td>Firms with no employees</td>\n",
       "      <td>2018</td>\n",
       "      <td>0</td>\n",
       "      <td>a</td>\n",
       "      <td>0</td>\n",
       "      <td>D</td>\n",
       "      <td>27</td>\n",
       "    </tr>\n",
       "    <tr>\n",
       "      <th>372089</th>\n",
       "      <td>0400000US27</td>\n",
       "      <td>Minnesota</td>\n",
       "      <td>27</td>\n",
       "      <td>55</td>\n",
       "      <td>Management of companies and enterprises</td>\n",
       "      <td>001</td>\n",
       "      <td>All firms</td>\n",
       "      <td>002</td>\n",
       "      <td>Female</td>\n",
       "      <td>001</td>\n",
       "      <td>...</td>\n",
       "      <td>001</td>\n",
       "      <td>Total</td>\n",
       "      <td>642</td>\n",
       "      <td>Firms with 50 to 99 employees</td>\n",
       "      <td>2018</td>\n",
       "      <td>0</td>\n",
       "      <td>b</td>\n",
       "      <td>0</td>\n",
       "      <td>D</td>\n",
       "      <td>27</td>\n",
       "    </tr>\n",
       "    <tr>\n",
       "      <th>372090</th>\n",
       "      <td>0400000US27</td>\n",
       "      <td>Minnesota</td>\n",
       "      <td>27</td>\n",
       "      <td>55</td>\n",
       "      <td>Management of companies and enterprises</td>\n",
       "      <td>001</td>\n",
       "      <td>All firms</td>\n",
       "      <td>002</td>\n",
       "      <td>Female</td>\n",
       "      <td>001</td>\n",
       "      <td>...</td>\n",
       "      <td>001</td>\n",
       "      <td>Total</td>\n",
       "      <td>651</td>\n",
       "      <td>Firms with 100 to 249 employees</td>\n",
       "      <td>2018</td>\n",
       "      <td>0</td>\n",
       "      <td>c</td>\n",
       "      <td>0</td>\n",
       "      <td>D</td>\n",
       "      <td>27</td>\n",
       "    </tr>\n",
       "    <tr>\n",
       "      <th>372091</th>\n",
       "      <td>0400000US27</td>\n",
       "      <td>Minnesota</td>\n",
       "      <td>27</td>\n",
       "      <td>55</td>\n",
       "      <td>Management of companies and enterprises</td>\n",
       "      <td>001</td>\n",
       "      <td>All firms</td>\n",
       "      <td>002</td>\n",
       "      <td>Female</td>\n",
       "      <td>001</td>\n",
       "      <td>...</td>\n",
       "      <td>001</td>\n",
       "      <td>Total</td>\n",
       "      <td>657</td>\n",
       "      <td>Firms with 500 employees or more</td>\n",
       "      <td>2018</td>\n",
       "      <td>0</td>\n",
       "      <td>f</td>\n",
       "      <td>0</td>\n",
       "      <td>D</td>\n",
       "      <td>27</td>\n",
       "    </tr>\n",
       "  </tbody>\n",
       "</table>\n",
       "<p>372091 rows × 23 columns</p>\n",
       "</div>"
      ],
      "text/plain": [
       "             GEO_ID         NAME STATE NAICS2017  \\\n",
       "1       0400000US28  Mississippi    28        00   \n",
       "2       0400000US28  Mississippi    28        00   \n",
       "3       0400000US28  Mississippi    28        00   \n",
       "4       0400000US28  Mississippi    28        00   \n",
       "5       0400000US28  Mississippi    28        00   \n",
       "...             ...          ...   ...       ...   \n",
       "372087  0400000US27    Minnesota    27        55   \n",
       "372088  0400000US27    Minnesota    27        55   \n",
       "372089  0400000US27    Minnesota    27        55   \n",
       "372090  0400000US27    Minnesota    27        55   \n",
       "372091  0400000US27    Minnesota    27        55   \n",
       "\n",
       "                                NAICS2017_LABEL YIBSZFI YIBSZFI_LABEL  SEX  \\\n",
       "1                         Total for all sectors     001     All firms  001   \n",
       "2                         Total for all sectors     001     All firms  001   \n",
       "3                         Total for all sectors     001     All firms  001   \n",
       "4                         Total for all sectors     001     All firms  001   \n",
       "5                         Total for all sectors     001     All firms  001   \n",
       "...                                         ...     ...           ...  ...   \n",
       "372087  Management of companies and enterprises     001     All firms  002   \n",
       "372088  Management of companies and enterprises     001     All firms  002   \n",
       "372089  Management of companies and enterprises     001     All firms  002   \n",
       "372090  Management of companies and enterprises     001     All firms  002   \n",
       "372091  Management of companies and enterprises     001     All firms  002   \n",
       "\n",
       "       SEX_LABEL ETH_GROUP  ... VET_GROUP             VET_GROUP_LABEL EMPSZFI  \\\n",
       "1          Total       029  ...       003  Equally veteran/nonveteran     612   \n",
       "2          Total       029  ...       003  Equally veteran/nonveteran     620   \n",
       "3          Total       029  ...       003  Equally veteran/nonveteran     630   \n",
       "4          Total       029  ...       003  Equally veteran/nonveteran     641   \n",
       "5          Total       029  ...       003  Equally veteran/nonveteran     642   \n",
       "...          ...       ...  ...       ...                         ...     ...   \n",
       "372087    Female       001  ...       001                       Total     001   \n",
       "372088    Female       001  ...       001                       Total     611   \n",
       "372089    Female       001  ...       001                       Total     642   \n",
       "372090    Female       001  ...       001                       Total     651   \n",
       "372091    Female       001  ...       001                       Total     657   \n",
       "\n",
       "                           EMPSZFI_LABEL  YEAR   EMP EMP_F PAYANN PAYANN_F  \\\n",
       "1            Firms with 1 to 4 employees  2018     0     g      0        S   \n",
       "2            Firms with 5 to 9 employees  2018  1742  None  43830     None   \n",
       "3          Firms with 10 to 19 employees  2018     0     g      0        D   \n",
       "4          Firms with 20 to 49 employees  2018     0     c      0        D   \n",
       "5          Firms with 50 to 99 employees  2018     0     h      0        D   \n",
       "...                                  ...   ...   ...   ...    ...      ...   \n",
       "372087                         All firms  2018   820  None  55388     None   \n",
       "372088           Firms with no employees  2018     0     a      0        D   \n",
       "372089     Firms with 50 to 99 employees  2018     0     b      0        D   \n",
       "372090   Firms with 100 to 249 employees  2018     0     c      0        D   \n",
       "372091  Firms with 500 employees or more  2018     0     f      0        D   \n",
       "\n",
       "       state  \n",
       "1         28  \n",
       "2         28  \n",
       "3         28  \n",
       "4         28  \n",
       "5         28  \n",
       "...      ...  \n",
       "372087    27  \n",
       "372088    27  \n",
       "372089    27  \n",
       "372090    27  \n",
       "372091    27  \n",
       "\n",
       "[372091 rows x 23 columns]"
      ]
     },
     "execution_count": 10,
     "metadata": {},
     "output_type": "execute_result"
    }
   ],
   "source": [
    "response_1 = requests.get(url_us)\n",
    "\n",
    "response_2 = requests.get(url_state)"
   ]
  },
  {
   "cell_type": "markdown",
   "id": "69cba2c4-dcd6-4308-93b9-a3d7c5e66f6c",
   "metadata": {},
   "source": [
    "The variables 'response_1' and 'response_2' have a multitude of methods saved within them. Our data is stored within the 'text' object as a json file. So, we can call the text method and save that as a new variable."
   ]
  },
  {
   "cell_type": "code",
   "execution_count": null,
   "id": "4be63249-654e-460b-b15c-a8b5dbe925e6",
   "metadata": {},
   "outputs": [],
   "source": [
    "data_us = response_1.text\n",
    "\n",
    "data_state = response_2.text"
   ]
  },
  {
   "cell_type": "markdown",
   "id": "4412f003-c05b-4c35-a981-6b56716ec72c",
   "metadata": {},
   "source": [
    "From here, pandas can read the json directly into a pandas DataFrame."
   ]
  },
  {
   "cell_type": "code",
   "execution_count": null,
   "id": "44422ec7-5214-4ab6-80f0-32b6899645d0",
   "metadata": {},
   "outputs": [],
   "source": [
    "df1 = pd.read_json(data_us)\n",
    "\n",
    "df1_state = pd.read_json(data_state)"
   ]
  },
  {
   "cell_type": "markdown",
   "id": "ae794f0d-d2f4-4cc5-a072-09fee466da5e",
   "metadata": {},
   "source": [
    "If we look at this json file, the column headers are indexes and the first row of each column is the actual column header values. So, we need to move the first row to be the header."
   ]
  },
  {
   "cell_type": "code",
   "execution_count": null,
   "id": "4cf711b3-a54a-4c61-a263-d9d27def35c2",
   "metadata": {},
   "outputs": [],
   "source": [
    "df1 = df1.rename(columns=df1.iloc[0]).drop(df1.index[0])\n",
    "\n",
    "df1_state = df1_state.rename(columns=df1_state.iloc[0]).drop(df1_state.index[0])"
   ]
  },
  {
   "cell_type": "markdown",
   "id": "f5d34f0f-dd81-4b30-9a3b-ede89f023aed",
   "metadata": {},
   "source": [
    "All of the data is stored as a string. But, we need some of our columns as number values. Specifically, we need to get our number of employees and our payroll as number values."
   ]
  },
  {
   "cell_type": "code",
   "execution_count": null,
   "id": "6aef084d-ddbe-47c2-b2db-89083fcb7766",
   "metadata": {},
   "outputs": [],
   "source": [
    "df1 = df1.astype({'PAYANN': float, 'EMP': float})\n",
    "\n",
    "df1_state = df1_state.astype({'PAYANN': float, 'EMP': float})"
   ]
  },
  {
   "cell_type": "markdown",
   "id": "882a57c2-d994-46ea-87b6-55052f20047d",
   "metadata": {},
   "source": [
    "These DataFrames, df1 and df1_state, will serve as our main DataFrames, which we will then filter down to be able to build our visualizations"
   ]
  },
  {
   "cell_type": "markdown",
   "id": "7996d322-15d3-4dac-87bf-0049934dbb9d",
   "metadata": {},
   "source": [
    "\n",
    "\n",
    "FILTERING DOWN TO BE ABLE TO CREATE DATA VISUALIZATIONS\n",
    "\n"
   ]
  },
  {
   "cell_type": "markdown",
   "id": "95ab6bb7-6857-452e-9d1f-f358225495e2",
   "metadata": {},
   "source": [
    "Our first set of visualizations aims at looking into how much payroll is dedicated to different racial groups by state and by business category. However, since our data only makes up a survey of businesses in the United States, the raw payroll values in our dataset will probably be misleading. So, not only do we need to filter our data down to get exactly what we want, we also need to mutate our data to get the proper values to analyse.\n",
    "\n",
    "We also need to be wary of missing data within the dataset. The variables 'PAYROLL_F' and 'EMP_F', which stand for payroll_flag and employee_flaag, respectively, are indicator variables to tell us not only whether or not there is missing data, but why. We want the rows with no flag, which indicates there being nothing wrong with our data. \n",
    "\n",
    "We now need to make sure that the only break out category included within our data is whichever racial group we want to highlight. So, we need to make sure every other category, ethnic group, sex, veteran status, firm size, number of years in business, and business type, needs to be set to include all categories."
   ]
  },
  {
   "cell_type": "code",
   "execution_count": null,
   "id": "2a50fb8f-02d7-48aa-aeef-4a887bfadaed",
   "metadata": {},
   "outputs": [],
   "source": [
    "df_filtered = df1_state[df1_state['PAYANN_F'].isna()==True]\n",
    "df_filtered = df_filtered[df_filtered['EMP_F'].isna()==True]\n",
    "df_filtered = df_filtered[df_filtered['EMPSZFI'] == '001']\n",
    "df_filtered = df_filtered[df_filtered['NAICS2017_LABEL'] == 'Total for all sectors']\n",
    "df_filtered = df_filtered[df_filtered['YIBSZFI_LABEL'] == 'All firms']\n",
    "df_filtered = df_filtered[df_filtered['SEX'] == '001']\n",
    "df_filtered = df_filtered[filtered['VET_GROUP'] == '001']\n",
    "df_filtered = df_filtered[filtered['ETH_GROUP'] == '001']\n",
    "df_black = df_filtered[df_filtered['RACE_GROUP_LABEL'] == 'Black or African American']"
   ]
  },
  {
   "cell_type": "markdown",
   "id": "43feb082-94e1-4d92-9cea-11e648a9e033",
   "metadata": {},
   "source": [
    "For the sake of the visualization we want to make, we need to repeat this process, but instead of breaking into race, we want to include all businesses."
   ]
  },
  {
   "cell_type": "code",
   "execution_count": null,
   "id": "90c234a2-d8e8-48e9-ba30-6c6c4c8c7efc",
   "metadata": {},
   "outputs": [],
   "source": [
    "df_total  = df_filtered[df_filtered['RACE_GROUP_LABEL'] == 'Total']"
   ]
  },
  {
   "cell_type": "markdown",
   "id": "c7ed1058-9a45-4c76-8de1-afd33c473506",
   "metadata": {},
   "source": [
    "Now, we can select the specific columns we need to build our visualizations from each dataset. The columns we need are 'NAME', 'PAYANN', and 'EMP'."
   ]
  },
  {
   "cell_type": "code",
   "execution_count": null,
   "id": "a9a332fb-1d6f-4026-9c85-cb62115cf3ef",
   "metadata": {},
   "outputs": [],
   "source": [
    "df_b = df_black[['NAME', 'PAYANN', 'EMP']]\n",
    "\n",
    "df_t = df_total[['NAME', 'PAYANN', 'EMP']]"
   ]
  },
  {
   "cell_type": "markdown",
   "id": "eaa51a30-42ac-42ab-9460-1625908bf95a",
   "metadata": {},
   "source": [
    "From here, we want to create our new variable: pay per employee. We will do this by dividing the payroll column by the employee column, converting it into a list, and then adding it back into the DataFrame."
   ]
  },
  {
   "cell_type": "code",
   "execution_count": null,
   "id": "dcbdd119-9461-442f-bf93-52710168cb3b",
   "metadata": {},
   "outputs": [],
   "source": [
    "payroll_employee = df_b['PAYANN']/df_b['EMP']\n",
    "\n",
    "payroll_emp = payroll_employee.tolist()\n",
    "\n",
    "df_b.insert(3, \"Pay per Employee\", payroll_employee)\n",
    "\n",
    "payroll_employee = df_t['PAYANN']/df_t['EMP']\n",
    "\n",
    "payroll_emp = payroll_employee.tolist()\n",
    "\n",
    "df_b1.insert(3, \"Pay per Employee\", payroll_employee)"
   ]
  },
  {
   "cell_type": "markdown",
   "id": "e4220adb-8698-4bd6-9e63-bb9f4ed57acb",
   "metadata": {},
   "source": [
    "Finally, we can merge these two datasets together using an inner join on the 'NAME' column."
   ]
  },
  {
   "cell_type": "code",
   "execution_count": null,
   "id": "e0b57b0d-032b-40bb-901a-fd9cd5d716c8",
   "metadata": {},
   "outputs": [],
   "source": [
    "df_b_merged = pd.merge(df_b, df_t, how = 'inner', on = 'NAME', suffixes = ('_black', '_total'))"
   ]
  },
  {
   "cell_type": "markdown",
   "id": "7fbcf4df-af01-4f85-af3f-328ef3f7368b",
   "metadata": {},
   "source": [
    "Using this DataFrame, we can build our visualization comparing payroll per employee for black owned businesses with the payroll per employee of businesses overall by state."
   ]
  },
  {
   "cell_type": "markdown",
   "id": "525c88b2-541c-4f39-b011-29e8d567cca5",
   "metadata": {},
   "source": [
    "Now, we want to do essentially the exact same process, but instead of examining states, we will examine business type. For this, we use the regular 'df1' instead of 'df1_state'."
   ]
  },
  {
   "cell_type": "code",
   "execution_count": null,
   "id": "e73ec771-6911-4aed-88a6-c1acbd87a12b",
   "metadata": {},
   "outputs": [],
   "source": [
    "df_filtered = df1[df1['PAYANN_F'].isna()==True]\n",
    "df_filtered = df_filtered[df_filtered['EMP_F'].isna()==True]\n",
    "df_filtered = df_filtered[df_filtered['EMPSZFI'] == '001']\n",
    "df_filtered = df_filtered[df_filtered['NAICS2017_LABEL'] != 'Total for all sectors']\n",
    "df_filtered = df_filtered[df_filtered['YIBSZFI_LABEL'] == 'All firms']\n",
    "df_filtered = df_filtered[df_filtered['SEX'] == '001']\n",
    "df_filtered = df_filtered[filtered['VET_GROUP'] == '001']\n",
    "df_filtered = df_filtered[filtered['ETH_GROUP'] == '001']\n",
    "df_black = df_filtered[df_filtered['RACE_GROUP_LABEL'] == 'Black or African American']"
   ]
  },
  {
   "cell_type": "code",
   "execution_count": null,
   "id": "36c2e7a9-07cc-49a9-9fa9-4cbbe069add7",
   "metadata": {},
   "outputs": [],
   "source": [
    "df_total  = df_filtered[df_filtered['RACE_GROUP_LABEL'] == 'Total']"
   ]
  },
  {
   "cell_type": "code",
   "execution_count": null,
   "id": "0afb3c3f-9653-4533-a06c-63d479fa4cf5",
   "metadata": {},
   "outputs": [],
   "source": [
    "df_b = df_black[['NAICS2017_LABEL', 'PAYANN', 'EMP']]\n",
    "\n",
    "df_t = df_total[['NAICS2017_LABEL', 'PAYANN', 'EMP']]\n",
    "\n",
    "payroll_employee = df_b['PAYANN']/df_b['EMP']\n",
    "\n",
    "payroll_emp = payroll_employee.tolist()\n",
    "\n",
    "df_b.insert(3, \"Pay per Employee\", payroll_employee)\n",
    "\n",
    "payroll_employee = df_t['PAYANN']/df_t['EMP']\n",
    "\n",
    "payroll_emp = payroll_employee.tolist()\n",
    "\n",
    "df_t.insert(3, \"Pay per Employee\", payroll_employee)\n",
    "\n",
    "df_b_merged = pd.merge(df_b, df_t, how = 'inner', on = 'NAICS2017_LABEL', suffixes = ('_black', '_total'))"
   ]
  },
  {
   "cell_type": "markdown",
   "id": "481f1038-c054-4471-8f1b-a4038b8ea06f",
   "metadata": {},
   "source": [
    "For our second set of visualizations, we are going to do essentially the same thing, but instead we are going to look at veteran owned businesses. So, we will include all race categories, and compare veteran owned businesses with overall businesses and payroll per employee by state and industry."
   ]
  },
  {
   "cell_type": "code",
   "execution_count": null,
   "id": "ba9e58af-dc7a-4ac8-a61e-992427e092b1",
   "metadata": {},
   "outputs": [],
   "source": [
    "df_filtered = df1_state[df1_state['PAYANN_F'].isna()==True]\n",
    "df_filtered = df_filtered[df_filtered['EMP_F'].isna()==True]\n",
    "df_filtered = df_filtered[df_filtered['EMPSZFI'] == '001']\n",
    "df_filtered = df_filtered[df_filtered['NAICS2017_LABEL'] == 'Total for all sectors']\n",
    "df_filtered = df_filtered[df_filtered['YIBSZFI_LABEL'] == 'All firms']\n",
    "df_filtered = df_filtered[df_filtered['RACE_GROUP_LABEL'] == 'Total']\n",
    "df_filtered = df_filtered[df_filtered['SEX'] == '001']\n",
    "df_filtered = df_filtered[filtered['ETH_GROUP'] == '001']\n",
    "df_veteran = df_filtered[filtered['VET_GROUP'] == '002']"
   ]
  },
  {
   "cell_type": "code",
   "execution_count": null,
   "id": "2a2daf81-023b-4cd6-8af1-e8cee8e787a8",
   "metadata": {},
   "outputs": [],
   "source": [
    "df_total  = df_filtered[df_filtered['VET_GROUP'] == '001']"
   ]
  },
  {
   "cell_type": "code",
   "execution_count": null,
   "id": "35100a87-6f0f-46f9-85e9-b4d7d4a2db45",
   "metadata": {},
   "outputs": [],
   "source": [
    "df_v = df_veteran[['NAME', 'PAYANN', 'EMP']]\n",
    "\n",
    "df_t = df_total[['NAME', 'PAYANN', 'EMP']]"
   ]
  },
  {
   "cell_type": "code",
   "execution_count": null,
   "id": "2dbcc543-b986-4ae8-96b2-1169e538da9a",
   "metadata": {},
   "outputs": [],
   "source": [
    "df_v = df_v[['NAME', 'PAYANN', 'EMP']]\n",
    "\n",
    "df_t = df_total[['NAME', 'PAYANN', 'EMP']]\n",
    "\n",
    "payroll_employee = df_v['PAYANN']/df_v['EMP']\n",
    "\n",
    "payroll_emp = payroll_employee.tolist()\n",
    "\n",
    "df_b.insert(3, \"Pay per Employee\", payroll_employee)\n",
    "\n",
    "payroll_employee = df_t['PAYANN']/df_t['EMP']\n",
    "\n",
    "payroll_emp = payroll_employee.tolist()\n",
    "\n",
    "df_t.insert(3, \"Pay per Employee\", payroll_employee)\n",
    "\n",
    "df_v_merged = pd.merge(df_v, df_t, how = 'inner', on = 'NAME', suffixes = ('_veteran', '_total'))"
   ]
  },
  {
   "cell_type": "markdown",
   "id": "c3fded02-8748-4b6a-bb53-6efb863013c2",
   "metadata": {},
   "source": [
    "And again, we alter the process slightly for the business type as opposed to states."
   ]
  },
  {
   "cell_type": "code",
   "execution_count": null,
   "id": "8e4c8972-810d-40ae-ae1c-aa7b9daa4e25",
   "metadata": {},
   "outputs": [],
   "source": [
    "df_filtered = df1[df1['PAYANN_F'].isna()==True]\n",
    "df_filtered = df_filtered[df_filtered['EMP_F'].isna()==True]\n",
    "df_filtered = df_filtered[df_filtered['EMPSZFI'] == '001']\n",
    "df_filtered = df_filtered[df_filtered['NAICS2017_LABEL'] != 'Total for all sectors']\n",
    "df_filtered = df_filtered[df_filtered['YIBSZFI_LABEL'] == 'All firms']\n",
    "df_filtered = df_filtered[df_filtered['RACE_GROUP_LABEL'] == 'Total']\n",
    "df_filtered = df_filtered[df_filtered['SEX'] == '001']\n",
    "df_filtered = df_filtered[filtered['ETH_GROUP'] == '001']\n",
    "df_veteran = df_filtered[filtered['VET_GROUP'] == '002']"
   ]
  },
  {
   "cell_type": "code",
   "execution_count": null,
   "id": "3a1cc04d-b8f3-4278-8e6b-7475a8929d68",
   "metadata": {},
   "outputs": [],
   "source": [
    "df_total  = df_filtered[df_filtered['VET_GROUP'] == '001']"
   ]
  },
  {
   "cell_type": "code",
   "execution_count": null,
   "id": "995a74dd-5145-4ee8-b7f0-39c41539f31f",
   "metadata": {},
   "outputs": [],
   "source": [
    "df_v = df_veteran[['NAICS2017_LABEL', 'PAYANN', 'EMP']]\n",
    "\n",
    "df_t = df_total[['NAICS2017_LABEL', 'PAYANN', 'EMP']]"
   ]
  },
  {
   "cell_type": "code",
   "execution_count": null,
   "id": "f302dc1a-3579-4f24-8512-c834ea43e958",
   "metadata": {},
   "outputs": [],
   "source": [
    "df_v = df_v[['NAICS2017_LABEL', 'PAYANN', 'EMP']]\n",
    "\n",
    "df_t = df_total[['NAICS2017_LABEL', 'PAYANN', 'EMP']]\n",
    "\n",
    "payroll_employee = df_v['PAYANN']/df_v['EMP']\n",
    "\n",
    "payroll_emp = payroll_employee.tolist()\n",
    "\n",
    "df_b.insert(3, \"Pay per Employee\", payroll_employee)\n",
    "\n",
    "payroll_employee = df_t['PAYANN']/df_t['EMP']\n",
    "\n",
    "payroll_emp = payroll_employee.tolist()\n",
    "\n",
    "df_t.insert(3, \"Pay per Employee\", payroll_employee)\n",
    "\n",
    "df_v_merged = pd.merge(df_v, df_t, how = 'inner', on = 'NAICS2017_LABEL', suffixes = ('_veteran', '_total'))"
   ]
  }
 ],
 "metadata": {
  "kernelspec": {
   "display_name": "Python 3",
   "language": "python",
   "name": "python3"
  },
  "language_info": {
   "codemirror_mode": {
    "name": "ipython",
    "version": 3
   },
   "file_extension": ".py",
   "mimetype": "text/x-python",
   "name": "python",
   "nbconvert_exporter": "python",
   "pygments_lexer": "ipython3",
   "version": "3.8.8"
  }
 },
 "nbformat": 4,
 "nbformat_minor": 5
}
